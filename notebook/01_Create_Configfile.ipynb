{
  "cells": [
    {
      "cell_type": "markdown",
      "metadata": {
        "id": "Q3egrWHAzs7H"
      },
      "source": [
        "# MMVCの学習に必要なconfig系Fileを作成する\n",
        "\n",
        "ver.2022/05/16\n",
        "\n"
      ]
    },
    {
      "cell_type": "markdown",
      "metadata": {
        "id": "V61VE7vxLaY3"
      },
      "source": [
        "## 1 概要\n",
        "「Google Colaboratory」を利用した、MMVCの学習を実行するために必要なファイルを生成します。"
      ]
    },
    {
      "cell_type": "markdown",
      "metadata": {
        "id": "kN0-Tj3TL-T2"
      },
      "source": [
        "## 2 Google Drive をマウント\n",
        "**Google Drive にアップロードした MMVC_Trainer を参照できるように、設定します。**\n",
        "\n",
        "「このノートブックに Google ドライブのファイルへのアクセスを許可しますか？」\n",
        "\n",
        "といったポップアップが表示されるので、「Google ドライブに接続」を押下し、google アカウントを選択して、「許可」を選択してください。\n",
        "\n",
        "成功すれば、下記メッセージが出ます。\n",
        "```\n",
        "Mounted at /content/drive/\n",
        "```\n"
      ]
    },
    {
      "cell_type": "code",
      "execution_count": null,
      "metadata": {
        "id": "hdfce8bPkpMB"
      },
      "outputs": [],
      "source": [
        "from google.colab import drive\n",
        "drive.mount('/content/drive')"
      ]
    },
    {
      "cell_type": "markdown",
      "metadata": {
        "id": "AXCsRWVLNn0c"
      },
      "source": [
        "cdコマンドを実行して、マウントしたGoogle Drive のMMVC_Trainerディレクトリに移動します。\n",
        "\n",
        "%cd 「MMVC_Trainerをgoogle driveにパップロードしたパス」\n",
        "\n",
        "としてください。\n",
        "\n",
        "正しいパスが指定されていれば\n",
        "\n",
        "-rw------- 1 root root 11780 Mar  4 16:53 attentions.py\n",
        "\n",
        "-rw------- 1 root root  4778 Mar  4 16:53 commons.py\n",
        "\n",
        "drwx------ 2 root root  4096 Mar  5 15:20 configs\n",
        "\n",
        "...といった感じに表示されるはずです。"
      ]
    },
    {
      "cell_type": "code",
      "execution_count": null,
      "metadata": {
        "id": "cLxKrVTGkvsq"
      },
      "outputs": [],
      "source": [
        "%cd /content/drive/MyDrive/\n",
        "!ls -la"
      ]
    },
    {
      "cell_type": "markdown",
      "metadata": {
        "id": "FS1ttfpyPckq"
      },
      "source": [
        "## 3 必要なライブラリのインストール\n",
        "\n",
        "何も考えず実行してください。"
      ]
    },
    {
      "cell_type": "code",
      "execution_count": null,
      "metadata": {
        "id": "XDLDiK1Sk3uZ"
      },
      "outputs": [],
      "source": [
        "!pip install pyopenjtalk"
      ]
    },
    {
      "cell_type": "markdown",
      "metadata": {
        "id": "jX2VRWu4Pvqy"
      },
      "source": [
        "## 4 MMVCの学習に必要なconfig系Fileを作成する\n",
        "\n",
        "学習に必要なファイルを実行します。  \n",
        "オプションは-f -s -c -zがあります。普通に使う際には-cは不要です。  \n",
        "-f 作成するconfig系Fileの名前です。よくわからない人は変更不要です。  \n",
        "-s サンプリングレートです。datasetの音声のサンプリングレートに合わせて指定ください。よくわからない人は変更不要です。  \n",
        "-z ずんだもんフラグです。ずんだもんの学習を行うか行わないかTrue or False で指定します。セルを分けているので使い分けてください。  \n",
        "\n",
        "実行時に  \n",
        "「WARNING: JPCommonLabel_insert_pause() in jpcommon_label.c: First mora should not be short pause.」  \n",
        "と表示されますが、無視して大丈夫です。 \n",
        "\n",
        "「filelists」ディレクトリに  \n",
        "「指定したconfig系Fileの名前_textful.txt」  \n",
        "「指定したconfig系Fileの名前_textful_val.txt」  \n",
        "「指定したconfig系Fileの名前_textless.txt」  \n",
        "「指定したconfig系Fileの名前_val_textless.txt」  \n",
        "「指定したconfig系Fileの名前_Correspondence.txt」  \n",
        "上記5ファイル\n",
        "\n",
        "「configs」ディレクトリに  \n",
        "「指定したconfig系Fileの名前.json」  \n",
        "上記1ファイルが生成されていれば、成功です。 \n",
        "\n",
        "\n",
        "\n",
        "**※以下興味がある方向け**\n",
        "create_dataset_jtalk.pyではベースになるjsonファイルを書き換えています。  \n",
        "デフォルトでは、「/configs/baseconfig.json」が指定されており、このファイルの  \n",
        "「training_files」「validation_files」「training_files_notext」「validation_files_notext」「sampling_rate」「n_speakers」  \n",
        "の6項目を書き換えています。  \n",
        "-c オプションではベースになるjsonファイルのpathを指定することができます。   \n",
        "デフォルトのハイパーパラメータを変更した場合等に利用ください。  \n",
        "開発者は一度も使ったことはありません。  "
      ]
    },
    {
      "cell_type": "code",
      "execution_count": null,
      "metadata": {
        "id": "qbh1TvLRk5pu"
      },
      "outputs": [],
      "source": [
        "!python create_dataset_jtalk.py -f train_config_zundamon -s 24000 -z True"
      ]
    },
    {
      "cell_type": "markdown",
      "metadata": {
        "id": "_0xsQz8ao9SO"
      },
      "source": [
        "ずんだもん以外の話者の学習を行う場合、下記セルを実行してください。"
      ]
    },
    {
      "cell_type": "code",
      "execution_count": null,
      "metadata": {
        "id": "RLhtQMLeo9SP"
      },
      "outputs": [],
      "source": [
        "!python create_dataset_jtalk.py -f train_config -s 24000"
      ]
    }
  ],
  "metadata": {
    "colab": {
      "collapsed_sections": [],
      "name": "01_Create_Configfile.ipynb",
      "provenance": []
    },
    "kernelspec": {
      "display_name": "Python 3",
      "name": "python3"
    },
    "language_info": {
      "name": "python"
    }
  },
  "nbformat": 4,
  "nbformat_minor": 0
}
