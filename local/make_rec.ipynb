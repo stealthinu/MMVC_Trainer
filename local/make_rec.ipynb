{
  "cells": [
    {
      "cell_type": "code",
      "execution_count": null,
      "metadata": {},
      "outputs": [],
      "source": [
        "all = open(\"ITA_emotion_all.txt\")\n",
        "hira = open(\"ITA_emotion_all_hira.txt\")\n"
      ]
    },
    {
      "cell_type": "code",
      "execution_count": null,
      "metadata": {},
      "outputs": [],
      "source": [
        "all_lines = all.readlines()\n",
        "hira_lines = hira.readlines()\n"
      ]
    },
    {
      "cell_type": "code",
      "execution_count": null,
      "metadata": {},
      "outputs": [],
      "source": [
        "len(all_lines)"
      ]
    },
    {
      "cell_type": "code",
      "execution_count": null,
      "metadata": {},
      "outputs": [],
      "source": [
        "for i in range(100):\n",
        "    print(f\"rec(5, \\\"emotion{i+1:03}.wav\\\", \\\"{all_lines[i].rstrip()}\\\", \\\"{hira_lines[i].rstrip()}\\\")\")"
      ]
    },
    {
      "cell_type": "code",
      "execution_count": null,
      "metadata": {},
      "outputs": [],
      "source": []
    }
  ],
  "metadata": {
    "interpreter": {
      "hash": "ff3fdd7d80781b2f52ba823c7a1b36dbda0bf9834fe188ef410bc9fe62fc2ef7"
    },
    "kernelspec": {
      "display_name": "Python 3.8.10 ('mmvcwsl')",
      "language": "python",
      "name": "python3"
    },
    "language_info": {
      "codemirror_mode": {
        "name": "ipython",
        "version": 3
      },
      "file_extension": ".py",
      "mimetype": "text/x-python",
      "name": "python",
      "nbconvert_exporter": "python",
      "pygments_lexer": "ipython3",
      "version": "3.8.13"
    },
    "orig_nbformat": 4
  },
  "nbformat": 4,
  "nbformat_minor": 2
}
